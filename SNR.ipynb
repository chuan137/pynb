{
 "metadata": {
  "name": ""
 },
 "nbformat": 3,
 "nbformat_minor": 0,
 "worksheets": [
  {
   "cells": [
    {
     "cell_type": "code",
     "collapsed": false,
     "input": [
      "%matplotlib inline\n",
      "import matplotlib.pyplot as plt\n",
      "import numpy as np\n",
      "\n",
      "import packages.tifffile as tifffile\n",
      "from packages.helpers import grid, show_images"
     ],
     "language": "python",
     "metadata": {},
     "outputs": [],
     "prompt_number": 11
    },
    {
     "cell_type": "code",
     "collapsed": false,
     "input": [
      "img1 = tifffile.imread(\"data/snr1.tif\")"
     ],
     "language": "python",
     "metadata": {},
     "outputs": [],
     "prompt_number": 8
    },
    {
     "cell_type": "code",
     "collapsed": false,
     "input": [
      "_ = show_images(img1)"
     ],
     "language": "python",
     "metadata": {},
     "outputs": [
      {
       "metadata": {},
       "output_type": "display_data",
       "png": "[encoded data removed]",
       "text": [
        "<matplotlib.figure.Figure at 0x7f3858ae5a90>"
       ]
      }
     ],
     "prompt_number": 17
    },
    {
     "cell_type": "code",
     "collapsed": false,
     "input": [
      "def snr(data, x0,y0, x1,y1):\n",
      "    x2 = x0 - 3\n",
      "    y2 = y0 - 3\n",
      "    x3 = x1 + 3\n",
      "    y3 = y1 + 3\n",
      "    \n",
      "    print data[x0:x1+1, y0:y1+1]\n",
      "    print data[x2:x3+1, y2:y3+1]"
     ],
     "language": "python",
     "metadata": {},
     "outputs": [],
     "prompt_number": 37
    },
    {
     "cell_type": "code",
     "collapsed": false,
     "input": [
      "snr(img1, 8,9, 10,11)"
     ],
     "language": "python",
     "metadata": {},
     "outputs": [
      {
       "output_type": "stream",
       "stream": "stdout",
       "text": [
        "[[ 92 105  62]\n",
        " [106 112  64]\n",
        " [ 71  71  45]]\n",
        "[[ 45  46  38  34  38  40  42  43  43]\n",
        " [ 45  46  34  29  33  35  37  40  42]\n",
        " [ 39  35  33  47  54  41  35  37  42]\n",
        " [ 37  29  45  92 105  62  36  36  41]\n",
        " [ 36  26  52 106 112  64  35  33  39]\n",
        " [ 30  24  40  71  71  45  29  31  38]\n",
        " [ 32  28  33  42  42  35  30  32  38]\n",
        " [ 42  40  39  40  41  41  39  38  40]\n",
        " [ 46  44  44  46  46  46  45  43  43]]\n"
       ]
      }
     ],
     "prompt_number": 38
    },
    {
     "cell_type": "code",
     "collapsed": false,
     "input": [],
     "language": "python",
     "metadata": {},
     "outputs": []
    }
   ],
   "metadata": {}
  }
 ]
}