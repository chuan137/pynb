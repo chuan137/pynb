{
 "metadata": {
  "name": "",
  "signature": "sha256:dadd1cad6e7c39079aa32122b5247cb7a1d7d3e858b87ae4128108815c281e07"
 },
 "nbformat": 3,
 "nbformat_minor": 0,
 "worksheets": [
  {
   "cells": [
    {
     "cell_type": "heading",
     "level": 3,
     "metadata": {},
     "source": [
      "Description"
     ]
    },
    {
     "cell_type": "markdown",
     "metadata": {},
     "source": [
      "The task is to find all pixel clusters in a 2d image. Suppose the input image is a 2d array with elements 0/1. We define a pixel cluster as a group of value-1 pixels, any of which are connected to another pixel in either of the four directions (up, down, left or right).\n",
      "\n",
      "A recursive algorithm is implemented in function \"explore()\". Given a starting pixel with coordinates (x, y), it searches recursively in all four directions the connected pixels. The function labels all found pixel with a negative integer."
     ]
    },
    {
     "cell_type": "code",
     "collapsed": false,
     "input": [
      "import numpy as np\n",
      "\n",
      "# Recursive algorithm for searching pixel cluster\n",
      "\n",
      "def explore(m, x, y, label=1):\n",
      "    if label > 0:\n",
      "        label = -label\n",
      "    if x < 0 or x >= m.shape[0] \\\n",
      "        or y < 0 or y >= m.shape[1]:\n",
      "        return False\n",
      "    if m[x][y] == 1:\n",
      "        m[x][y] = label\n",
      "    else:\n",
      "        return False\n",
      "    explore(m, x-1, y, label)\n",
      "    explore(m, x+1, y, label)\n",
      "    explore(m, x, y+1, label)\n",
      "    explore(m, x, y-1, label)\n",
      "\n",
      "\n",
      "# Helper Functions\n",
      "\n",
      "def print_matrix(m):\n",
      "    from itertools import imap\n",
      "    red = '\\x1b[31m'\n",
      "    green = '\\x1b[32m'\n",
      "    blue = '\\x1b[34m'\n",
      "    colors = [red, green, blue]\n",
      "    def colorize(x):\n",
      "        if x < 0:\n",
      "            color = colors[(-x-1)%3]\n",
      "            letter = chr(ord('A') - (x + 1))\n",
      "            return color + letter + '\\x1b[0m'\n",
      "        elif x == 1:\n",
      "            return green + '1' + '\\x1b[0m'\n",
      "        else:\n",
      "            return '-'\n",
      "    for row in m:\n",
      "        print \" \".join(imap(colorize, row))\n",
      "  \n",
      "def coordinates(a, b):\n",
      "    from itertools import product\n",
      "    return product(range(a), range(b))\n",
      "\n"
     ],
     "language": "python",
     "metadata": {},
     "outputs": [],
     "prompt_number": 50
    },
    {
     "cell_type": "code",
     "collapsed": false,
     "input": [
      "\n",
      "# Generate input image <mat>\n",
      "\n",
      "mat = np.zeros((16,16), dtype='int')\n",
      "mat[4:8, 4:10] = 1\n",
      "mat[0:3, 0:3] = 1\n",
      "mat[1,3] = 1\n",
      "mat[2:4,7:9] = 1\n",
      "mat[9:15, 12:] = 1\n",
      "mat[11:14, 8:] = 1\n",
      "\n",
      "print_matrix(mat)"
     ],
     "language": "python",
     "metadata": {},
     "outputs": [
      {
       "output_type": "stream",
       "stream": "stdout",
       "text": [
        "\u001b[32m1\u001b[0m \u001b[32m1\u001b[0m \u001b[32m1\u001b[0m - - - - - - - - - - - - -\n",
        "\u001b[32m1\u001b[0m \u001b[32m1\u001b[0m \u001b[32m1\u001b[0m \u001b[32m1\u001b[0m - - - - - - - - - - - -\n",
        "\u001b[32m1\u001b[0m \u001b[32m1\u001b[0m \u001b[32m1\u001b[0m - - - - \u001b[32m1\u001b[0m \u001b[32m1\u001b[0m - - - - - - -\n",
        "- - - - - - - \u001b[32m1\u001b[0m \u001b[32m1\u001b[0m - - - - - - -\n",
        "- - - - \u001b[32m1\u001b[0m \u001b[32m1\u001b[0m \u001b[32m1\u001b[0m \u001b[32m1\u001b[0m \u001b[32m1\u001b[0m \u001b[32m1\u001b[0m - - - - - -\n",
        "- - - - \u001b[32m1\u001b[0m \u001b[32m1\u001b[0m \u001b[32m1\u001b[0m \u001b[32m1\u001b[0m \u001b[32m1\u001b[0m \u001b[32m1\u001b[0m - - - - - -\n",
        "- - - - \u001b[32m1\u001b[0m \u001b[32m1\u001b[0m \u001b[32m1\u001b[0m \u001b[32m1\u001b[0m \u001b[32m1\u001b[0m \u001b[32m1\u001b[0m - - - - - -\n",
        "- - - - \u001b[32m1\u001b[0m \u001b[32m1\u001b[0m \u001b[32m1\u001b[0m \u001b[32m1\u001b[0m \u001b[32m1\u001b[0m \u001b[32m1\u001b[0m - - - - - -\n",
        "- - - - - - - - - - - - - - - -\n",
        "- - - - - - - - - - - - \u001b[32m1\u001b[0m \u001b[32m1\u001b[0m \u001b[32m1\u001b[0m \u001b[32m1\u001b[0m\n",
        "- - - - - - - - - - - - \u001b[32m1\u001b[0m \u001b[32m1\u001b[0m \u001b[32m1\u001b[0m \u001b[32m1\u001b[0m\n",
        "- - - - - - - - \u001b[32m1\u001b[0m \u001b[32m1\u001b[0m \u001b[32m1\u001b[0m \u001b[32m1\u001b[0m \u001b[32m1\u001b[0m \u001b[32m1\u001b[0m \u001b[32m1\u001b[0m \u001b[32m1\u001b[0m\n",
        "- - - - - - - - \u001b[32m1\u001b[0m \u001b[32m1\u001b[0m \u001b[32m1\u001b[0m \u001b[32m1\u001b[0m \u001b[32m1\u001b[0m \u001b[32m1\u001b[0m \u001b[32m1\u001b[0m \u001b[32m1\u001b[0m\n",
        "- - - - - - - - \u001b[32m1\u001b[0m \u001b[32m1\u001b[0m \u001b[32m1\u001b[0m \u001b[32m1\u001b[0m \u001b[32m1\u001b[0m \u001b[32m1\u001b[0m \u001b[32m1\u001b[0m \u001b[32m1\u001b[0m\n",
        "- - - - - - - - - - - - \u001b[32m1\u001b[0m \u001b[32m1\u001b[0m \u001b[32m1\u001b[0m \u001b[32m1\u001b[0m\n",
        "- - - - - - - - - - - - - - - -\n"
       ]
      }
     ],
     "prompt_number": 46
    },
    {
     "cell_type": "code",
     "collapsed": false,
     "input": [
      "\n",
      "# main function for searching all pixel clusters\n",
      "\n",
      "m = np.copy(mat)\n",
      "\n",
      "lab = 0\n",
      "for x0, y0 in coordinates(*m.shape):\n",
      "    if m[x0, y0] == 1:\n",
      "        lab = lab - 1\n",
      "        explore(m, x0, y0, lab)\n",
      "\n",
      "print_matrix(m)"
     ],
     "language": "python",
     "metadata": {},
     "outputs": [
      {
       "output_type": "stream",
       "stream": "stdout",
       "text": [
        "\u001b[31mA\u001b[0m \u001b[31mA\u001b[0m \u001b[31mA\u001b[0m - - - - - - - - - - - - -\n",
        "\u001b[31mA\u001b[0m \u001b[31mA\u001b[0m \u001b[31mA\u001b[0m \u001b[31mA\u001b[0m - - - - - - - - - - - -\n",
        "\u001b[31mA\u001b[0m \u001b[31mA\u001b[0m \u001b[31mA\u001b[0m - - - - \u001b[32mB\u001b[0m \u001b[32mB\u001b[0m - - - - - - -\n",
        "- - - - - - - \u001b[32mB\u001b[0m \u001b[32mB\u001b[0m - - - - - - -\n",
        "- - - - \u001b[32mB\u001b[0m \u001b[32mB\u001b[0m \u001b[32mB\u001b[0m \u001b[32mB\u001b[0m \u001b[32mB\u001b[0m \u001b[32mB\u001b[0m - - - - - -\n",
        "- - - - \u001b[32mB\u001b[0m \u001b[32mB\u001b[0m \u001b[32mB\u001b[0m \u001b[32mB\u001b[0m \u001b[32mB\u001b[0m \u001b[32mB\u001b[0m - - - - - -\n",
        "- - - - \u001b[32mB\u001b[0m \u001b[32mB\u001b[0m \u001b[32mB\u001b[0m \u001b[32mB\u001b[0m \u001b[32mB\u001b[0m \u001b[32mB\u001b[0m - - - - - -\n",
        "- - - - \u001b[32mB\u001b[0m \u001b[32mB\u001b[0m \u001b[32mB\u001b[0m \u001b[32mB\u001b[0m \u001b[32mB\u001b[0m \u001b[32mB\u001b[0m - - - - - -\n",
        "- - - - - - - - - - - - - - - -\n",
        "- - - - - - - - - - - - \u001b[34mC\u001b[0m \u001b[34mC\u001b[0m \u001b[34mC\u001b[0m \u001b[34mC\u001b[0m\n",
        "- - - - - - - - - - - - \u001b[34mC\u001b[0m \u001b[34mC\u001b[0m \u001b[34mC\u001b[0m \u001b[34mC\u001b[0m\n",
        "- - - - - - - - \u001b[34mC\u001b[0m \u001b[34mC\u001b[0m \u001b[34mC\u001b[0m \u001b[34mC\u001b[0m \u001b[34mC\u001b[0m \u001b[34mC\u001b[0m \u001b[34mC\u001b[0m \u001b[34mC\u001b[0m\n",
        "- - - - - - - - \u001b[34mC\u001b[0m \u001b[34mC\u001b[0m \u001b[34mC\u001b[0m \u001b[34mC\u001b[0m \u001b[34mC\u001b[0m \u001b[34mC\u001b[0m \u001b[34mC\u001b[0m \u001b[34mC\u001b[0m\n",
        "- - - - - - - - \u001b[34mC\u001b[0m \u001b[34mC\u001b[0m \u001b[34mC\u001b[0m \u001b[34mC\u001b[0m \u001b[34mC\u001b[0m \u001b[34mC\u001b[0m \u001b[34mC\u001b[0m \u001b[34mC\u001b[0m\n",
        "- - - - - - - - - - - - \u001b[34mC\u001b[0m \u001b[34mC\u001b[0m \u001b[34mC\u001b[0m \u001b[34mC\u001b[0m\n",
        "- - - - - - - - - - - - - - - -\n"
       ]
      }
     ],
     "prompt_number": 53
    },
    {
     "cell_type": "code",
     "collapsed": false,
     "input": [
      "\n",
      "# Redundant functions\n",
      "# helper to acess pixels in neighbour\n",
      "# return 0, 1 or None\n",
      "# mat = np.zeros((15,13), dtype='uint8'); mat[4:8, 4:10] = np.ones((4,6))\n",
      "# print left(mat, 4, 7), right(mat, 4, 7), up(mat, 4, 7), down(mat, 4, 7)\n",
      "# print left(mat, 0, 0), right(mat, 12, 5), up(mat, 4, 0), down(mat, 3, 14)\n",
      "\n",
      "\n",
      "def left(m, x, y):\n",
      "    if x-1 < 0: return None\n",
      "    else: return m[y][x-1]\n",
      "def right(m, x, y):\n",
      "    try: return m[y][x+1]\n",
      "    except: return None\n",
      "def up(m, x, y):\n",
      "    if y - 1 < 0: return None\n",
      "    else: return m[y-1][x]\n",
      "def down(m, x, y):\n",
      "    try: return m[y+1][x]\n",
      "    except: return None\n"
     ],
     "language": "python",
     "metadata": {
      "slideshow": {
       "slide_type": "slide"
      }
     },
     "outputs": [],
     "prompt_number": 51
    }
   ],
   "metadata": {}
  }
 ]
}